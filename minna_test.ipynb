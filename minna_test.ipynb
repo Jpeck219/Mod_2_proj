{
 "cells": [
  {
   "cell_type": "code",
   "execution_count": 1,
   "metadata": {},
   "outputs": [],
   "source": [
    "import minna_functions as mf"
   ]
  },
  {
   "cell_type": "code",
   "execution_count": 2,
   "metadata": {},
   "outputs": [],
   "source": [
    "import pandas as pd"
   ]
  },
  {
   "cell_type": "code",
   "execution_count": 3,
   "metadata": {},
   "outputs": [],
   "source": [
    "import seaborn as sns"
   ]
  },
  {
   "cell_type": "code",
   "execution_count": 4,
   "metadata": {},
   "outputs": [],
   "source": [
    "import sqlite3\n",
    "conn = sqlite3.connect('database.sqlite')\n",
    "c = conn.cursor()\n",
    "import numpy as np"
   ]
  },
  {
   "cell_type": "code",
   "execution_count": 160,
   "metadata": {},
   "outputs": [],
   "source": [
    "#list of dates in UNIX\n",
    "c.execute('''select * from matches\n",
    "             where Season == 2011\n",
    "            ''')\n",
    "df_matches = pd.DataFrame(c.fetchall())\n",
    "dates = df_matches[3]\n",
    "review = pd.to_datetime(pd.Series(dates))\n",
    "df_matches[3] = review\n",
    "\n",
    "dates_UNIX = list(df_matches[3].astype(np.int64) // 10**9)"
   ]
  },
  {
   "cell_type": "code",
   "execution_count": 170,
   "metadata": {},
   "outputs": [],
   "source": [
    "import requests\n",
    "\n",
    "secret_key = '6451ebd4d55c9eaa573cda7e94ad37d0' \n",
    "latitude = 52.5200\n",
    "longitude = 13.4050\n",
    "date = dates_UNIX\n",
    "URL = 'https://api.darksky.net/forecast/{}/{},{},{}?exclude=currently,flags,hourly,minutely,alerts'.format(secret_key, latitude, longitude, date)\n"
   ]
  },
  {
   "cell_type": "code",
   "execution_count": 171,
   "metadata": {},
   "outputs": [
    {
     "data": {
      "text/plain": [
       "'https://api.darksky.net/forecast/6451ebd4d55c9eaa573cda7e94ad37d0/52.52,13.405,1310688000?exclude=currently,flags,hourly,minutely,alerts'"
      ]
     },
     "execution_count": 171,
     "metadata": {},
     "output_type": "execute_result"
    }
   ],
   "source": [
    "URL"
   ]
  },
  {
   "cell_type": "code",
   "execution_count": 172,
   "metadata": {},
   "outputs": [],
   "source": [
    "resp = requests.get(URL)"
   ]
  },
  {
   "cell_type": "code",
   "execution_count": 173,
   "metadata": {},
   "outputs": [
    {
     "data": {
      "text/plain": [
       "200"
      ]
     },
     "execution_count": 173,
     "metadata": {},
     "output_type": "execute_result"
    }
   ],
   "source": [
    "resp.status_code "
   ]
  },
  {
   "cell_type": "code",
   "execution_count": 174,
   "metadata": {},
   "outputs": [
    {
     "name": "stdout",
     "output_type": "stream",
     "text": [
      "{\"latitude\":52.52,\"longitude\":13.405,\"timezone\":\"Europe/Berlin\",\"daily\":{\"data\":[{\"time\":1310680800,\"summary\":\"Mostly cloudy throughout the day.\",\"icon\":\"partly-cloudy-day\",\"sunriseTime\":1310698952,\"sunsetTime\":1310757860,\"moonPhase\":0.52,\"precipIntensity\":0,\"precipIntensityMax\":0,\"precipProbability\":0,\"temperatureHigh\":63.81,\"temperatureHighTime\":1310742000,\"temperatureLow\":53.63,\"temperatureLowTime\":1310785200,\"apparentTemperatureHigh\":63.81,\"apparentTemperatureHighTime\":1310742000,\"apparentTemperatureLow\":53.63,\"apparentTemperatureLowTime\":1310785200,\"dewPoint\":50.11,\"humidity\":0.68,\"windSpeed\":14.1,\"windGust\":21,\"windGustTime\":1310742000,\"windBearing\":225,\"cloudCover\":0.73,\"uvIndex\":5,\"uvIndexTime\":1310727600,\"visibility\":6.212,\"temperatureMin\":56.63,\"temperatureMinTime\":1310698800,\"temperatureMax\":63.81,\"temperatureMaxTime\":1310742000,\"apparentTemperatureMin\":56.63,\"apparentTemperatureMinTime\":1310698800,\"apparentTemperatureMax\":63.81,\"apparentTemperatureMaxTime\":1310742000}]},\"offset\":2}\n",
      "\n"
     ]
    }
   ],
   "source": [
    "print (resp.text)"
   ]
  },
  {
   "cell_type": "code",
   "execution_count": 175,
   "metadata": {},
   "outputs": [],
   "source": [
    "r = resp.json()"
   ]
  },
  {
   "cell_type": "code",
   "execution_count": 176,
   "metadata": {},
   "outputs": [
    {
     "data": {
      "text/plain": [
       "dict_keys(['latitude', 'longitude', 'timezone', 'daily', 'offset'])"
      ]
     },
     "execution_count": 176,
     "metadata": {},
     "output_type": "execute_result"
    }
   ],
   "source": [
    "r.keys()"
   ]
  },
  {
   "cell_type": "code",
   "execution_count": 187,
   "metadata": {},
   "outputs": [
    {
     "data": {
      "text/plain": [
       "0"
      ]
     },
     "execution_count": 187,
     "metadata": {},
     "output_type": "execute_result"
    }
   ],
   "source": [
    "r['daily']['data'][0]['precipIntensity']"
   ]
  },
  {
   "cell_type": "code",
   "execution_count": 179,
   "metadata": {},
   "outputs": [
    {
     "data": {
      "text/plain": [
       "[1310680800]"
      ]
     },
     "execution_count": 179,
     "metadata": {},
     "output_type": "execute_result"
    }
   ],
   "source": [
    "[r['daily']['data'][i]['time'] for i in range(0,len(r['daily']['data']))]"
   ]
  },
  {
   "cell_type": "code",
   "execution_count": 158,
   "metadata": {
    "scrolled": true
   },
   "outputs": [
    {
     "data": {
      "text/plain": [
       "int"
      ]
     },
     "execution_count": 158,
     "metadata": {},
     "output_type": "execute_result"
    }
   ],
   "source": [
    "type(r['daily']['data'][0]['time'])"
   ]
  },
  {
   "cell_type": "code",
   "execution_count": null,
   "metadata": {},
   "outputs": [],
   "source": []
  },
  {
   "cell_type": "code",
   "execution_count": 260,
   "metadata": {},
   "outputs": [],
   "source": [
    "from datetime import datetime"
   ]
  },
  {
   "cell_type": "code",
   "execution_count": 263,
   "metadata": {},
   "outputs": [],
   "source": [
    "class scrape_dark_sky():\n",
    "    \n",
    "    \n",
    "    def __init__(self):\n",
    "        self.latitude = 52.5200\n",
    "        self.longitude = 13.4050\n",
    "        self.secret_key = '6451ebd4d55c9eaa573cda7e94ad37d0'\n",
    "    \n",
    "    def unix_list(self):\n",
    "        c.execute('''SELECT * FROM matches\n",
    "                     WHERE Season == 2011\n",
    "                     ''')\n",
    "        df_matches = pd.DataFrame(c.fetchall())\n",
    "        dates = df_matches[3]\n",
    "        review = pd.to_datetime(pd.Series(dates))\n",
    "        df_matches[3] = review\n",
    "        dates_UNIX = list(df_matches[3].astype(np.int64) // 10**9)\n",
    "        return dates_UNIX\n",
    "    \n",
    "    def get_rain(self):\n",
    "        \n",
    "        temp = {}\n",
    "        \n",
    "        for date in scrape_dark_sky().unix_list()[:5:\n",
    "            date = date\n",
    "            URL = 'https://api.darksky.net/forecast/{}/{},{},{}?exclude=currently,flags,hourly,minutely,alerts'.format(self.secret_key, self.latitude, self.longitude, date)\n",
    "        \n",
    "            resp = requests.get(URL)\n",
    "            r = resp.json()\n",
    "            rain_for_day = r['daily']['data'][0]['precipIntensity']\n",
    "            \n",
    "            if rain_for_day == 0:\n",
    "                rain_for_day = False \n",
    "            else:\n",
    "                rain_for_day = True\n",
    "                \n",
    "            date = datetime.utcfromtimestamp(date).strftime('%Y-%m-%d')\n",
    "\n",
    "    \n",
    "            temp.update({date : rain_for_day})\n",
    "        \n",
    "        return temp\n",
    "    \n",
    "    \n",
    "    \n",
    "    \n",
    "    \n",
    "    "
   ]
  },
  {
   "cell_type": "code",
   "execution_count": null,
   "metadata": {},
   "outputs": [],
   "source": []
  },
  {
   "cell_type": "code",
   "execution_count": 5,
   "metadata": {
    "scrolled": true
   },
   "outputs": [
    {
     "data": {
      "text/plain": [
       "{'2012-03-31': True,\n",
       " '2011-12-11': False,\n",
       " '2011-08-13': False,\n",
       " '2011-11-27': False,\n",
       " '2012-02-18': False}"
      ]
     },
     "execution_count": 5,
     "metadata": {},
     "output_type": "execute_result"
    }
   ],
   "source": [
    "mf.scrape_dark_sky().get_rain()"
   ]
  },
  {
   "cell_type": "code",
   "execution_count": null,
   "metadata": {},
   "outputs": [],
   "source": []
  },
  {
   "cell_type": "code",
   "execution_count": null,
   "metadata": {},
   "outputs": [],
   "source": []
  },
  {
   "cell_type": "code",
   "execution_count": null,
   "metadata": {},
   "outputs": [],
   "source": []
  },
  {
   "cell_type": "code",
   "execution_count": null,
   "metadata": {},
   "outputs": [],
   "source": []
  },
  {
   "cell_type": "code",
   "execution_count": null,
   "metadata": {},
   "outputs": [],
   "source": []
  },
  {
   "cell_type": "code",
   "execution_count": null,
   "metadata": {},
   "outputs": [],
   "source": []
  },
  {
   "cell_type": "code",
   "execution_count": null,
   "metadata": {},
   "outputs": [],
   "source": [
    "c.execute('''select * from matches\n",
    "             where Season == 2011\n",
    "            ''')\n",
    "df_matches = pd.DataFrame(c.fetchall())\n",
    "dates = df_matches[3]\n",
    "review = pd.to_datetime(pd.Series(dates))\n",
    "df_matches[3] = review\n",
    "\n",
    "dates_UNIX = list(df_matches[3].astype(np.int64) // 10**9)"
   ]
  },
  {
   "cell_type": "code",
   "execution_count": 201,
   "metadata": {},
   "outputs": [],
   "source": [
    "# temp = {}\n",
    "# for date in dates_UNIX[:5]:\n",
    "    \n",
    "#     secret_key = '6451ebd4d55c9eaa573cda7e94ad37d0' \n",
    "#     latitude = 52.5200\n",
    "#     longitude = 13.4050\n",
    "#     date = date\n",
    "#     URL = 'https://api.darksky.net/forecast/{}/{},{},{}?exclude=currently,flags,hourly,minutely,alerts'.format(secret_key, latitude, longitude, date)\n",
    "    \n",
    "    \n",
    "#     resp = requests.get(URL)\n",
    "#     r = resp.json()\n",
    "#     rain_for_day = r['daily']['data'][0]['precipIntensity']\n",
    "#     if rain_for_day == 0:\n",
    "#         rain_for_day = False \n",
    "#     else:\n",
    "#         rain_for_day = True\n",
    "    \n",
    "#     temp.update({date : rain_for_day})\n",
    "    \n",
    "    \n",
    "    \n",
    "    \n",
    "    "
   ]
  },
  {
   "cell_type": "code",
   "execution_count": 202,
   "metadata": {},
   "outputs": [
    {
     "data": {
      "text/plain": [
       "{1333152000: True,\n",
       " 1323561600: False,\n",
       " 1313193600: False,\n",
       " 1322352000: False,\n",
       " 1329523200: False}"
      ]
     },
     "execution_count": 202,
     "metadata": {},
     "output_type": "execute_result"
    }
   ],
   "source": [
    "temp"
   ]
  },
  {
   "cell_type": "code",
   "execution_count": null,
   "metadata": {},
   "outputs": [],
   "source": [
    "#df\n",
    "#date #raining "
   ]
  },
  {
   "cell_type": "code",
   "execution_count": 1,
   "metadata": {},
   "outputs": [],
   "source": [
    "import minna_functions as mf"
   ]
  },
  {
   "cell_type": "code",
   "execution_count": 2,
   "metadata": {},
   "outputs": [
    {
     "data": {
      "text/plain": [
       "{'2012-03-31': True,\n",
       " '2011-12-11': False,\n",
       " '2011-08-13': False,\n",
       " '2011-11-27': False,\n",
       " '2012-02-18': False}"
      ]
     },
     "execution_count": 2,
     "metadata": {},
     "output_type": "execute_result"
    }
   ],
   "source": [
    "mf.scrape_dark_sky().get_rain()"
   ]
  },
  {
   "cell_type": "code",
   "execution_count": 7,
   "metadata": {},
   "outputs": [],
   "source": [
    "import pandas as pd"
   ]
  },
  {
   "cell_type": "code",
   "execution_count": 9,
   "metadata": {
    "scrolled": true
   },
   "outputs": [
    {
     "data": {
      "text/html": [
       "<div>\n",
       "<style scoped>\n",
       "    .dataframe tbody tr th:only-of-type {\n",
       "        vertical-align: middle;\n",
       "    }\n",
       "\n",
       "    .dataframe tbody tr th {\n",
       "        vertical-align: top;\n",
       "    }\n",
       "\n",
       "    .dataframe thead th {\n",
       "        text-align: right;\n",
       "    }\n",
       "</style>\n",
       "<table border=\"1\" class=\"dataframe\">\n",
       "  <thead>\n",
       "    <tr style=\"text-align: right;\">\n",
       "      <th></th>\n",
       "      <th>Total_Wins</th>\n",
       "    </tr>\n",
       "    <tr>\n",
       "      <th>Team_Name</th>\n",
       "      <th></th>\n",
       "    </tr>\n",
       "  </thead>\n",
       "  <tbody>\n",
       "    <tr>\n",
       "      <th>Aachen</th>\n",
       "      <td>6</td>\n",
       "    </tr>\n",
       "    <tr>\n",
       "      <th>Arsenal</th>\n",
       "      <td>21</td>\n",
       "    </tr>\n",
       "    <tr>\n",
       "      <th>Aston Villa</th>\n",
       "      <td>7</td>\n",
       "    </tr>\n",
       "    <tr>\n",
       "      <th>Augsburg</th>\n",
       "      <td>8</td>\n",
       "    </tr>\n",
       "    <tr>\n",
       "      <th>Bayern Munich</th>\n",
       "      <td>23</td>\n",
       "    </tr>\n",
       "    <tr>\n",
       "      <th>Blackburn</th>\n",
       "      <td>8</td>\n",
       "    </tr>\n",
       "    <tr>\n",
       "      <th>Bochum</th>\n",
       "      <td>10</td>\n",
       "    </tr>\n",
       "    <tr>\n",
       "      <th>Bolton</th>\n",
       "      <td>10</td>\n",
       "    </tr>\n",
       "    <tr>\n",
       "      <th>Braunschweig</th>\n",
       "      <td>10</td>\n",
       "    </tr>\n",
       "    <tr>\n",
       "      <th>Chelsea</th>\n",
       "      <td>18</td>\n",
       "    </tr>\n",
       "    <tr>\n",
       "      <th>Cottbus</th>\n",
       "      <td>8</td>\n",
       "    </tr>\n",
       "    <tr>\n",
       "      <th>Dortmund</th>\n",
       "      <td>25</td>\n",
       "    </tr>\n",
       "    <tr>\n",
       "      <th>Dresden</th>\n",
       "      <td>12</td>\n",
       "    </tr>\n",
       "    <tr>\n",
       "      <th>Duisburg</th>\n",
       "      <td>10</td>\n",
       "    </tr>\n",
       "    <tr>\n",
       "      <th>Ein Frankfurt</th>\n",
       "      <td>20</td>\n",
       "    </tr>\n",
       "    <tr>\n",
       "      <th>Erzgebirge Aue</th>\n",
       "      <td>8</td>\n",
       "    </tr>\n",
       "    <tr>\n",
       "      <th>Everton</th>\n",
       "      <td>15</td>\n",
       "    </tr>\n",
       "    <tr>\n",
       "      <th>FC Koln</th>\n",
       "      <td>8</td>\n",
       "    </tr>\n",
       "    <tr>\n",
       "      <th>Fortuna Dusseldorf</th>\n",
       "      <td>16</td>\n",
       "    </tr>\n",
       "    <tr>\n",
       "      <th>Frankfurt FSV</th>\n",
       "      <td>7</td>\n",
       "    </tr>\n",
       "    <tr>\n",
       "      <th>Freiburg</th>\n",
       "      <td>10</td>\n",
       "    </tr>\n",
       "    <tr>\n",
       "      <th>Fulham</th>\n",
       "      <td>14</td>\n",
       "    </tr>\n",
       "    <tr>\n",
       "      <th>Greuther Furth</th>\n",
       "      <td>20</td>\n",
       "    </tr>\n",
       "    <tr>\n",
       "      <th>Hamburg</th>\n",
       "      <td>8</td>\n",
       "    </tr>\n",
       "    <tr>\n",
       "      <th>Hannover</th>\n",
       "      <td>12</td>\n",
       "    </tr>\n",
       "    <tr>\n",
       "      <th>Hansa Rostock</th>\n",
       "      <td>5</td>\n",
       "    </tr>\n",
       "    <tr>\n",
       "      <th>Hertha</th>\n",
       "      <td>7</td>\n",
       "    </tr>\n",
       "    <tr>\n",
       "      <th>Hoffenheim</th>\n",
       "      <td>10</td>\n",
       "    </tr>\n",
       "    <tr>\n",
       "      <th>Ingolstadt</th>\n",
       "      <td>8</td>\n",
       "    </tr>\n",
       "    <tr>\n",
       "      <th>Kaiserslautern</th>\n",
       "      <td>4</td>\n",
       "    </tr>\n",
       "    <tr>\n",
       "      <th>Karlsruhe</th>\n",
       "      <td>9</td>\n",
       "    </tr>\n",
       "    <tr>\n",
       "      <th>Leverkusen</th>\n",
       "      <td>15</td>\n",
       "    </tr>\n",
       "    <tr>\n",
       "      <th>Liverpool</th>\n",
       "      <td>14</td>\n",
       "    </tr>\n",
       "    <tr>\n",
       "      <th>M'gladbach</th>\n",
       "      <td>17</td>\n",
       "    </tr>\n",
       "    <tr>\n",
       "      <th>Mainz</th>\n",
       "      <td>9</td>\n",
       "    </tr>\n",
       "    <tr>\n",
       "      <th>Man City</th>\n",
       "      <td>28</td>\n",
       "    </tr>\n",
       "    <tr>\n",
       "      <th>Man United</th>\n",
       "      <td>28</td>\n",
       "    </tr>\n",
       "    <tr>\n",
       "      <th>Munich 1860</th>\n",
       "      <td>17</td>\n",
       "    </tr>\n",
       "    <tr>\n",
       "      <th>Newcastle</th>\n",
       "      <td>19</td>\n",
       "    </tr>\n",
       "    <tr>\n",
       "      <th>Norwich</th>\n",
       "      <td>12</td>\n",
       "    </tr>\n",
       "    <tr>\n",
       "      <th>Nurnberg</th>\n",
       "      <td>12</td>\n",
       "    </tr>\n",
       "    <tr>\n",
       "      <th>Paderborn</th>\n",
       "      <td>17</td>\n",
       "    </tr>\n",
       "    <tr>\n",
       "      <th>QPR</th>\n",
       "      <td>10</td>\n",
       "    </tr>\n",
       "    <tr>\n",
       "      <th>Schalke 04</th>\n",
       "      <td>20</td>\n",
       "    </tr>\n",
       "    <tr>\n",
       "      <th>St Pauli</th>\n",
       "      <td>18</td>\n",
       "    </tr>\n",
       "    <tr>\n",
       "      <th>Stoke</th>\n",
       "      <td>11</td>\n",
       "    </tr>\n",
       "    <tr>\n",
       "      <th>Stuttgart</th>\n",
       "      <td>15</td>\n",
       "    </tr>\n",
       "    <tr>\n",
       "      <th>Sunderland</th>\n",
       "      <td>11</td>\n",
       "    </tr>\n",
       "    <tr>\n",
       "      <th>Swansea</th>\n",
       "      <td>12</td>\n",
       "    </tr>\n",
       "    <tr>\n",
       "      <th>Tottenham</th>\n",
       "      <td>20</td>\n",
       "    </tr>\n",
       "    <tr>\n",
       "      <th>Union Berlin</th>\n",
       "      <td>14</td>\n",
       "    </tr>\n",
       "    <tr>\n",
       "      <th>Werder Bremen</th>\n",
       "      <td>11</td>\n",
       "    </tr>\n",
       "    <tr>\n",
       "      <th>West Brom</th>\n",
       "      <td>13</td>\n",
       "    </tr>\n",
       "    <tr>\n",
       "      <th>Wigan</th>\n",
       "      <td>11</td>\n",
       "    </tr>\n",
       "    <tr>\n",
       "      <th>Wolfsburg</th>\n",
       "      <td>13</td>\n",
       "    </tr>\n",
       "    <tr>\n",
       "      <th>Wolves</th>\n",
       "      <td>5</td>\n",
       "    </tr>\n",
       "  </tbody>\n",
       "</table>\n",
       "</div>"
      ],
      "text/plain": [
       "                    Total_Wins\n",
       "Team_Name                     \n",
       "Aachen                       6\n",
       "Arsenal                     21\n",
       "Aston Villa                  7\n",
       "Augsburg                     8\n",
       "Bayern Munich               23\n",
       "Blackburn                    8\n",
       "Bochum                      10\n",
       "Bolton                      10\n",
       "Braunschweig                10\n",
       "Chelsea                     18\n",
       "Cottbus                      8\n",
       "Dortmund                    25\n",
       "Dresden                     12\n",
       "Duisburg                    10\n",
       "Ein Frankfurt               20\n",
       "Erzgebirge Aue               8\n",
       "Everton                     15\n",
       "FC Koln                      8\n",
       "Fortuna Dusseldorf          16\n",
       "Frankfurt FSV                7\n",
       "Freiburg                    10\n",
       "Fulham                      14\n",
       "Greuther Furth              20\n",
       "Hamburg                      8\n",
       "Hannover                    12\n",
       "Hansa Rostock                5\n",
       "Hertha                       7\n",
       "Hoffenheim                  10\n",
       "Ingolstadt                   8\n",
       "Kaiserslautern               4\n",
       "Karlsruhe                    9\n",
       "Leverkusen                  15\n",
       "Liverpool                   14\n",
       "M'gladbach                  17\n",
       "Mainz                        9\n",
       "Man City                    28\n",
       "Man United                  28\n",
       "Munich 1860                 17\n",
       "Newcastle                   19\n",
       "Norwich                     12\n",
       "Nurnberg                    12\n",
       "Paderborn                   17\n",
       "QPR                         10\n",
       "Schalke 04                  20\n",
       "St Pauli                    18\n",
       "Stoke                       11\n",
       "Stuttgart                   15\n",
       "Sunderland                  11\n",
       "Swansea                     12\n",
       "Tottenham                   20\n",
       "Union Berlin                14\n",
       "Werder Bremen               11\n",
       "West Brom                   13\n",
       "Wigan                       11\n",
       "Wolfsburg                   13\n",
       "Wolves                       5"
      ]
     },
     "execution_count": 9,
     "metadata": {},
     "output_type": "execute_result"
    }
   ],
   "source": [
    "df = pd.DataFrame(mf.total_wins(mf.total_teams()))"
   ]
  },
  {
   "cell_type": "code",
   "execution_count": 13,
   "metadata": {},
   "outputs": [],
   "source": [
    "import sqlite3\n",
    "conn = sqlite3.connect('database.sqlite')\n",
    "c = conn.cursor()\n"
   ]
  },
  {
   "cell_type": "code",
   "execution_count": 25,
   "metadata": {},
   "outputs": [],
   "source": [
    "c.execute('''SELECT Date, AwayTeam FROM MATCHES \n",
    "             WHERE FTR == 'A' \n",
    "             AND Season == 2011\n",
    "             ''')\n",
    "Away_Team_Wins = pd.DataFrame(c.fetchall())"
   ]
  },
  {
   "cell_type": "code",
   "execution_count": 29,
   "metadata": {},
   "outputs": [
    {
     "data": {
      "text/html": [
       "<div>\n",
       "<style scoped>\n",
       "    .dataframe tbody tr th:only-of-type {\n",
       "        vertical-align: middle;\n",
       "    }\n",
       "\n",
       "    .dataframe tbody tr th {\n",
       "        vertical-align: top;\n",
       "    }\n",
       "\n",
       "    .dataframe thead th {\n",
       "        text-align: right;\n",
       "    }\n",
       "</style>\n",
       "<table border=\"1\" class=\"dataframe\">\n",
       "  <thead>\n",
       "    <tr style=\"text-align: right;\">\n",
       "      <th></th>\n",
       "      <th>0</th>\n",
       "      <th>1</th>\n",
       "    </tr>\n",
       "  </thead>\n",
       "  <tbody>\n",
       "    <tr>\n",
       "      <th>0</th>\n",
       "      <td>2012-03-31</td>\n",
       "      <td>Bayern Munich</td>\n",
       "    </tr>\n",
       "    <tr>\n",
       "      <th>1</th>\n",
       "      <td>2011-12-11</td>\n",
       "      <td>Bayern Munich</td>\n",
       "    </tr>\n",
       "    <tr>\n",
       "      <th>2</th>\n",
       "      <td>2011-08-13</td>\n",
       "      <td>Bayern Munich</td>\n",
       "    </tr>\n",
       "    <tr>\n",
       "      <th>3</th>\n",
       "      <td>2012-04-21</td>\n",
       "      <td>Bayern Munich</td>\n",
       "    </tr>\n",
       "    <tr>\n",
       "      <th>4</th>\n",
       "      <td>2011-09-18</td>\n",
       "      <td>Bayern Munich</td>\n",
       "    </tr>\n",
       "  </tbody>\n",
       "</table>\n",
       "</div>"
      ],
      "text/plain": [
       "            0              1\n",
       "0  2012-03-31  Bayern Munich\n",
       "1  2011-12-11  Bayern Munich\n",
       "2  2011-08-13  Bayern Munich\n",
       "3  2012-04-21  Bayern Munich\n",
       "4  2011-09-18  Bayern Munich"
      ]
     },
     "execution_count": 29,
     "metadata": {},
     "output_type": "execute_result"
    }
   ],
   "source": [
    "Away_Team_Wins.head()"
   ]
  },
  {
   "cell_type": "code",
   "execution_count": 7,
   "metadata": {},
   "outputs": [],
   "source": [
    "c.execute('''SELECT Date, HomeTeam FROM MATCHES \n",
    "             WHERE FTR == 'H' \n",
    "             AND Season == 2011''')\n",
    "Home_Team_Wins = pd.DataFrame(c.fetchall())"
   ]
  },
  {
   "cell_type": "code",
   "execution_count": 8,
   "metadata": {},
   "outputs": [
    {
     "data": {
      "text/html": [
       "<div>\n",
       "<style scoped>\n",
       "    .dataframe tbody tr th:only-of-type {\n",
       "        vertical-align: middle;\n",
       "    }\n",
       "\n",
       "    .dataframe tbody tr th {\n",
       "        vertical-align: top;\n",
       "    }\n",
       "\n",
       "    .dataframe thead th {\n",
       "        text-align: right;\n",
       "    }\n",
       "</style>\n",
       "<table border=\"1\" class=\"dataframe\">\n",
       "  <thead>\n",
       "    <tr style=\"text-align: right;\">\n",
       "      <th></th>\n",
       "      <th>0</th>\n",
       "      <th>1</th>\n",
       "    </tr>\n",
       "  </thead>\n",
       "  <tbody>\n",
       "    <tr>\n",
       "      <th>0</th>\n",
       "      <td>2011-11-27</td>\n",
       "      <td>Mainz</td>\n",
       "    </tr>\n",
       "    <tr>\n",
       "      <th>1</th>\n",
       "      <td>2012-01-20</td>\n",
       "      <td>M'gladbach</td>\n",
       "    </tr>\n",
       "    <tr>\n",
       "      <th>2</th>\n",
       "      <td>2011-10-23</td>\n",
       "      <td>Hannover</td>\n",
       "    </tr>\n",
       "    <tr>\n",
       "      <th>3</th>\n",
       "      <td>2012-03-03</td>\n",
       "      <td>Leverkusen</td>\n",
       "    </tr>\n",
       "    <tr>\n",
       "      <th>4</th>\n",
       "      <td>2012-04-11</td>\n",
       "      <td>Dortmund</td>\n",
       "    </tr>\n",
       "  </tbody>\n",
       "</table>\n",
       "</div>"
      ],
      "text/plain": [
       "            0           1\n",
       "0  2011-11-27       Mainz\n",
       "1  2012-01-20  M'gladbach\n",
       "2  2011-10-23    Hannover\n",
       "3  2012-03-03  Leverkusen\n",
       "4  2012-04-11    Dortmund"
      ]
     },
     "execution_count": 8,
     "metadata": {},
     "output_type": "execute_result"
    }
   ],
   "source": [
    "Home_Team_Wins.head()"
   ]
  },
  {
   "cell_type": "code",
   "execution_count": 9,
   "metadata": {},
   "outputs": [
    {
     "data": {
      "text/html": [
       "<div>\n",
       "<style scoped>\n",
       "    .dataframe tbody tr th:only-of-type {\n",
       "        vertical-align: middle;\n",
       "    }\n",
       "\n",
       "    .dataframe tbody tr th {\n",
       "        vertical-align: top;\n",
       "    }\n",
       "\n",
       "    .dataframe thead th {\n",
       "        text-align: right;\n",
       "    }\n",
       "</style>\n",
       "<table border=\"1\" class=\"dataframe\">\n",
       "  <thead>\n",
       "    <tr style=\"text-align: right;\">\n",
       "      <th></th>\n",
       "      <th>0</th>\n",
       "      <th>1</th>\n",
       "    </tr>\n",
       "  </thead>\n",
       "  <tbody>\n",
       "    <tr>\n",
       "      <th>0</th>\n",
       "      <td>2012-03-31</td>\n",
       "      <td>Bayern Munich</td>\n",
       "    </tr>\n",
       "    <tr>\n",
       "      <th>1</th>\n",
       "      <td>2011-12-11</td>\n",
       "      <td>Bayern Munich</td>\n",
       "    </tr>\n",
       "    <tr>\n",
       "      <th>2</th>\n",
       "      <td>2011-08-13</td>\n",
       "      <td>Bayern Munich</td>\n",
       "    </tr>\n",
       "    <tr>\n",
       "      <th>3</th>\n",
       "      <td>2012-04-21</td>\n",
       "      <td>Bayern Munich</td>\n",
       "    </tr>\n",
       "    <tr>\n",
       "      <th>4</th>\n",
       "      <td>2011-09-18</td>\n",
       "      <td>Bayern Munich</td>\n",
       "    </tr>\n",
       "    <tr>\n",
       "      <th>5</th>\n",
       "      <td>2011-08-27</td>\n",
       "      <td>Bayern Munich</td>\n",
       "    </tr>\n",
       "    <tr>\n",
       "      <th>6</th>\n",
       "      <td>2012-03-17</td>\n",
       "      <td>Bayern Munich</td>\n",
       "    </tr>\n",
       "    <tr>\n",
       "      <th>7</th>\n",
       "      <td>2011-11-06</td>\n",
       "      <td>Bayern Munich</td>\n",
       "    </tr>\n",
       "    <tr>\n",
       "      <th>8</th>\n",
       "      <td>2012-05-05</td>\n",
       "      <td>Bayern Munich</td>\n",
       "    </tr>\n",
       "    <tr>\n",
       "      <th>9</th>\n",
       "      <td>2011-12-17</td>\n",
       "      <td>Dortmund</td>\n",
       "    </tr>\n",
       "    <tr>\n",
       "      <th>10</th>\n",
       "      <td>2012-02-18</td>\n",
       "      <td>Dortmund</td>\n",
       "    </tr>\n",
       "    <tr>\n",
       "      <th>11</th>\n",
       "      <td>2012-02-03</td>\n",
       "      <td>Dortmund</td>\n",
       "    </tr>\n",
       "    <tr>\n",
       "      <th>12</th>\n",
       "      <td>2012-01-22</td>\n",
       "      <td>Dortmund</td>\n",
       "    </tr>\n",
       "    <tr>\n",
       "      <th>13</th>\n",
       "      <td>2012-04-14</td>\n",
       "      <td>Dortmund</td>\n",
       "    </tr>\n",
       "    <tr>\n",
       "      <th>14</th>\n",
       "      <td>2012-03-25</td>\n",
       "      <td>Dortmund</td>\n",
       "    </tr>\n",
       "    <tr>\n",
       "      <th>15</th>\n",
       "      <td>2012-04-07</td>\n",
       "      <td>Dortmund</td>\n",
       "    </tr>\n",
       "    <tr>\n",
       "      <th>16</th>\n",
       "      <td>2011-11-19</td>\n",
       "      <td>Dortmund</td>\n",
       "    </tr>\n",
       "    <tr>\n",
       "      <th>17</th>\n",
       "      <td>2011-10-14</td>\n",
       "      <td>Dortmund</td>\n",
       "    </tr>\n",
       "    <tr>\n",
       "      <th>18</th>\n",
       "      <td>2011-09-24</td>\n",
       "      <td>Dortmund</td>\n",
       "    </tr>\n",
       "    <tr>\n",
       "      <th>19</th>\n",
       "      <td>2012-04-28</td>\n",
       "      <td>Dortmund</td>\n",
       "    </tr>\n",
       "    <tr>\n",
       "      <th>20</th>\n",
       "      <td>2012-03-02</td>\n",
       "      <td>Dresden</td>\n",
       "    </tr>\n",
       "    <tr>\n",
       "      <th>21</th>\n",
       "      <td>2011-10-02</td>\n",
       "      <td>Dresden</td>\n",
       "    </tr>\n",
       "    <tr>\n",
       "      <th>22</th>\n",
       "      <td>2012-03-30</td>\n",
       "      <td>Dresden</td>\n",
       "    </tr>\n",
       "    <tr>\n",
       "      <th>23</th>\n",
       "      <td>2011-10-22</td>\n",
       "      <td>Dresden</td>\n",
       "    </tr>\n",
       "    <tr>\n",
       "      <th>24</th>\n",
       "      <td>2011-11-25</td>\n",
       "      <td>Duisburg</td>\n",
       "    </tr>\n",
       "    <tr>\n",
       "      <th>25</th>\n",
       "      <td>2012-03-25</td>\n",
       "      <td>Duisburg</td>\n",
       "    </tr>\n",
       "    <tr>\n",
       "      <th>26</th>\n",
       "      <td>2011-11-07</td>\n",
       "      <td>Ein Frankfurt</td>\n",
       "    </tr>\n",
       "    <tr>\n",
       "      <th>27</th>\n",
       "      <td>2011-10-14</td>\n",
       "      <td>Ein Frankfurt</td>\n",
       "    </tr>\n",
       "    <tr>\n",
       "      <th>28</th>\n",
       "      <td>2011-08-21</td>\n",
       "      <td>Ein Frankfurt</td>\n",
       "    </tr>\n",
       "    <tr>\n",
       "      <th>29</th>\n",
       "      <td>2011-09-26</td>\n",
       "      <td>Ein Frankfurt</td>\n",
       "    </tr>\n",
       "    <tr>\n",
       "      <th>...</th>\n",
       "      <td>...</td>\n",
       "      <td>...</td>\n",
       "    </tr>\n",
       "    <tr>\n",
       "      <th>420</th>\n",
       "      <td>2012-04-08</td>\n",
       "      <td>Arsenal</td>\n",
       "    </tr>\n",
       "    <tr>\n",
       "      <th>421</th>\n",
       "      <td>2012-04-08</td>\n",
       "      <td>Man United</td>\n",
       "    </tr>\n",
       "    <tr>\n",
       "      <th>422</th>\n",
       "      <td>2012-04-09</td>\n",
       "      <td>Everton</td>\n",
       "    </tr>\n",
       "    <tr>\n",
       "      <th>423</th>\n",
       "      <td>2012-04-09</td>\n",
       "      <td>Newcastle</td>\n",
       "    </tr>\n",
       "    <tr>\n",
       "      <th>424</th>\n",
       "      <td>2012-04-11</td>\n",
       "      <td>Man City</td>\n",
       "    </tr>\n",
       "    <tr>\n",
       "      <th>425</th>\n",
       "      <td>2012-04-11</td>\n",
       "      <td>QPR</td>\n",
       "    </tr>\n",
       "    <tr>\n",
       "      <th>426</th>\n",
       "      <td>2012-04-11</td>\n",
       "      <td>Wigan</td>\n",
       "    </tr>\n",
       "    <tr>\n",
       "      <th>427</th>\n",
       "      <td>2012-04-14</td>\n",
       "      <td>Swansea</td>\n",
       "    </tr>\n",
       "    <tr>\n",
       "      <th>428</th>\n",
       "      <td>2012-04-14</td>\n",
       "      <td>West Brom</td>\n",
       "    </tr>\n",
       "    <tr>\n",
       "      <th>429</th>\n",
       "      <td>2012-04-15</td>\n",
       "      <td>Man United</td>\n",
       "    </tr>\n",
       "    <tr>\n",
       "      <th>430</th>\n",
       "      <td>2012-04-21</td>\n",
       "      <td>Blackburn</td>\n",
       "    </tr>\n",
       "    <tr>\n",
       "      <th>431</th>\n",
       "      <td>2012-04-21</td>\n",
       "      <td>Fulham</td>\n",
       "    </tr>\n",
       "    <tr>\n",
       "      <th>432</th>\n",
       "      <td>2012-04-21</td>\n",
       "      <td>Newcastle</td>\n",
       "    </tr>\n",
       "    <tr>\n",
       "      <th>433</th>\n",
       "      <td>2012-04-21</td>\n",
       "      <td>QPR</td>\n",
       "    </tr>\n",
       "    <tr>\n",
       "      <th>434</th>\n",
       "      <td>2012-04-28</td>\n",
       "      <td>Everton</td>\n",
       "    </tr>\n",
       "    <tr>\n",
       "      <th>435</th>\n",
       "      <td>2012-04-28</td>\n",
       "      <td>Wigan</td>\n",
       "    </tr>\n",
       "    <tr>\n",
       "      <th>436</th>\n",
       "      <td>2012-04-29</td>\n",
       "      <td>Chelsea</td>\n",
       "    </tr>\n",
       "    <tr>\n",
       "      <th>437</th>\n",
       "      <td>2012-04-29</td>\n",
       "      <td>Tottenham</td>\n",
       "    </tr>\n",
       "    <tr>\n",
       "      <th>438</th>\n",
       "      <td>2012-04-30</td>\n",
       "      <td>Man City</td>\n",
       "    </tr>\n",
       "    <tr>\n",
       "      <th>439</th>\n",
       "      <td>2012-05-06</td>\n",
       "      <td>Fulham</td>\n",
       "    </tr>\n",
       "    <tr>\n",
       "      <th>440</th>\n",
       "      <td>2012-05-06</td>\n",
       "      <td>Man United</td>\n",
       "    </tr>\n",
       "    <tr>\n",
       "      <th>441</th>\n",
       "      <td>2012-05-06</td>\n",
       "      <td>QPR</td>\n",
       "    </tr>\n",
       "    <tr>\n",
       "      <th>442</th>\n",
       "      <td>2012-05-08</td>\n",
       "      <td>Liverpool</td>\n",
       "    </tr>\n",
       "    <tr>\n",
       "      <th>443</th>\n",
       "      <td>2012-05-13</td>\n",
       "      <td>Chelsea</td>\n",
       "    </tr>\n",
       "    <tr>\n",
       "      <th>444</th>\n",
       "      <td>2012-05-13</td>\n",
       "      <td>Everton</td>\n",
       "    </tr>\n",
       "    <tr>\n",
       "      <th>445</th>\n",
       "      <td>2012-05-13</td>\n",
       "      <td>Man City</td>\n",
       "    </tr>\n",
       "    <tr>\n",
       "      <th>446</th>\n",
       "      <td>2012-05-13</td>\n",
       "      <td>Norwich</td>\n",
       "    </tr>\n",
       "    <tr>\n",
       "      <th>447</th>\n",
       "      <td>2012-05-13</td>\n",
       "      <td>Swansea</td>\n",
       "    </tr>\n",
       "    <tr>\n",
       "      <th>448</th>\n",
       "      <td>2012-05-13</td>\n",
       "      <td>Tottenham</td>\n",
       "    </tr>\n",
       "    <tr>\n",
       "      <th>449</th>\n",
       "      <td>2012-05-13</td>\n",
       "      <td>Wigan</td>\n",
       "    </tr>\n",
       "  </tbody>\n",
       "</table>\n",
       "<p>729 rows × 2 columns</p>\n",
       "</div>"
      ],
      "text/plain": [
       "              0              1\n",
       "0    2012-03-31  Bayern Munich\n",
       "1    2011-12-11  Bayern Munich\n",
       "2    2011-08-13  Bayern Munich\n",
       "3    2012-04-21  Bayern Munich\n",
       "4    2011-09-18  Bayern Munich\n",
       "5    2011-08-27  Bayern Munich\n",
       "6    2012-03-17  Bayern Munich\n",
       "7    2011-11-06  Bayern Munich\n",
       "8    2012-05-05  Bayern Munich\n",
       "9    2011-12-17       Dortmund\n",
       "10   2012-02-18       Dortmund\n",
       "11   2012-02-03       Dortmund\n",
       "12   2012-01-22       Dortmund\n",
       "13   2012-04-14       Dortmund\n",
       "14   2012-03-25       Dortmund\n",
       "15   2012-04-07       Dortmund\n",
       "16   2011-11-19       Dortmund\n",
       "17   2011-10-14       Dortmund\n",
       "18   2011-09-24       Dortmund\n",
       "19   2012-04-28       Dortmund\n",
       "20   2012-03-02        Dresden\n",
       "21   2011-10-02        Dresden\n",
       "22   2012-03-30        Dresden\n",
       "23   2011-10-22        Dresden\n",
       "24   2011-11-25       Duisburg\n",
       "25   2012-03-25       Duisburg\n",
       "26   2011-11-07  Ein Frankfurt\n",
       "27   2011-10-14  Ein Frankfurt\n",
       "28   2011-08-21  Ein Frankfurt\n",
       "29   2011-09-26  Ein Frankfurt\n",
       "..          ...            ...\n",
       "420  2012-04-08        Arsenal\n",
       "421  2012-04-08     Man United\n",
       "422  2012-04-09        Everton\n",
       "423  2012-04-09      Newcastle\n",
       "424  2012-04-11       Man City\n",
       "425  2012-04-11            QPR\n",
       "426  2012-04-11          Wigan\n",
       "427  2012-04-14        Swansea\n",
       "428  2012-04-14      West Brom\n",
       "429  2012-04-15     Man United\n",
       "430  2012-04-21      Blackburn\n",
       "431  2012-04-21         Fulham\n",
       "432  2012-04-21      Newcastle\n",
       "433  2012-04-21            QPR\n",
       "434  2012-04-28        Everton\n",
       "435  2012-04-28          Wigan\n",
       "436  2012-04-29        Chelsea\n",
       "437  2012-04-29      Tottenham\n",
       "438  2012-04-30       Man City\n",
       "439  2012-05-06         Fulham\n",
       "440  2012-05-06     Man United\n",
       "441  2012-05-06            QPR\n",
       "442  2012-05-08      Liverpool\n",
       "443  2012-05-13        Chelsea\n",
       "444  2012-05-13        Everton\n",
       "445  2012-05-13       Man City\n",
       "446  2012-05-13        Norwich\n",
       "447  2012-05-13        Swansea\n",
       "448  2012-05-13      Tottenham\n",
       "449  2012-05-13          Wigan\n",
       "\n",
       "[729 rows x 2 columns]"
      ]
     },
     "execution_count": 9,
     "metadata": {},
     "output_type": "execute_result"
    }
   ],
   "source": [
    "wins_and_date = Away_Team_Wins.append(Home_Team_Wins)\n",
    "wins_and_date"
   ]
  },
  {
   "cell_type": "code",
   "execution_count": 10,
   "metadata": {},
   "outputs": [
    {
     "name": "stdout",
     "output_type": "stream",
     "text": [
      "(450, 2)\n",
      "(279, 2)\n",
      "(729, 2)\n"
     ]
    }
   ],
   "source": [
    "print(Home_Team_Wins.shape)\n",
    "print(Away_Team_Wins.shape)\n",
    "print(wins_and_date.shape)"
   ]
  },
  {
   "cell_type": "code",
   "execution_count": 11,
   "metadata": {},
   "outputs": [
    {
     "data": {
      "text/html": [
       "<div>\n",
       "<style scoped>\n",
       "    .dataframe tbody tr th:only-of-type {\n",
       "        vertical-align: middle;\n",
       "    }\n",
       "\n",
       "    .dataframe tbody tr th {\n",
       "        vertical-align: top;\n",
       "    }\n",
       "\n",
       "    .dataframe thead th {\n",
       "        text-align: right;\n",
       "    }\n",
       "</style>\n",
       "<table border=\"1\" class=\"dataframe\">\n",
       "  <thead>\n",
       "    <tr style=\"text-align: right;\">\n",
       "      <th></th>\n",
       "      <th>1</th>\n",
       "    </tr>\n",
       "    <tr>\n",
       "      <th>0</th>\n",
       "      <th></th>\n",
       "    </tr>\n",
       "  </thead>\n",
       "  <tbody>\n",
       "    <tr>\n",
       "      <th>2012-03-31</th>\n",
       "      <td>Bayern Munich</td>\n",
       "    </tr>\n",
       "    <tr>\n",
       "      <th>2011-12-11</th>\n",
       "      <td>Bayern Munich</td>\n",
       "    </tr>\n",
       "    <tr>\n",
       "      <th>2011-08-13</th>\n",
       "      <td>Bayern Munich</td>\n",
       "    </tr>\n",
       "    <tr>\n",
       "      <th>2012-04-21</th>\n",
       "      <td>Bayern Munich</td>\n",
       "    </tr>\n",
       "    <tr>\n",
       "      <th>2011-09-18</th>\n",
       "      <td>Bayern Munich</td>\n",
       "    </tr>\n",
       "  </tbody>\n",
       "</table>\n",
       "</div>"
      ],
      "text/plain": [
       "                        1\n",
       "0                        \n",
       "2012-03-31  Bayern Munich\n",
       "2011-12-11  Bayern Munich\n",
       "2011-08-13  Bayern Munich\n",
       "2012-04-21  Bayern Munich\n",
       "2011-09-18  Bayern Munich"
      ]
     },
     "execution_count": 11,
     "metadata": {},
     "output_type": "execute_result"
    }
   ],
   "source": [
    "test_df = wins_and_date[:5]\n",
    "test_df.set_index(0)"
   ]
  },
  {
   "cell_type": "code",
   "execution_count": 66,
   "metadata": {
    "scrolled": true
   },
   "outputs": [
    {
     "data": {
      "text/plain": [
       "{'2012-03-31': True,\n",
       " '2011-12-11': False,\n",
       " '2011-08-13': False,\n",
       " '2011-11-27': False,\n",
       " '2012-02-18': False}"
      ]
     },
     "execution_count": 66,
     "metadata": {},
     "output_type": "execute_result"
    }
   ],
   "source": [
    "test_dict = mf.scrape_dark_sky().get_rain()\n",
    "test_dict"
   ]
  },
  {
   "cell_type": "code",
   "execution_count": 12,
   "metadata": {},
   "outputs": [
    {
     "data": {
      "text/html": [
       "<div>\n",
       "<style scoped>\n",
       "    .dataframe tbody tr th:only-of-type {\n",
       "        vertical-align: middle;\n",
       "    }\n",
       "\n",
       "    .dataframe tbody tr th {\n",
       "        vertical-align: top;\n",
       "    }\n",
       "\n",
       "    .dataframe thead th {\n",
       "        text-align: right;\n",
       "    }\n",
       "</style>\n",
       "<table border=\"1\" class=\"dataframe\">\n",
       "  <thead>\n",
       "    <tr style=\"text-align: right;\">\n",
       "      <th></th>\n",
       "      <th>index</th>\n",
       "      <th>0</th>\n",
       "    </tr>\n",
       "  </thead>\n",
       "  <tbody>\n",
       "    <tr>\n",
       "      <th>0</th>\n",
       "      <td>2012-03-31</td>\n",
       "      <td>True</td>\n",
       "    </tr>\n",
       "    <tr>\n",
       "      <th>1</th>\n",
       "      <td>2011-12-11</td>\n",
       "      <td>False</td>\n",
       "    </tr>\n",
       "    <tr>\n",
       "      <th>2</th>\n",
       "      <td>2011-08-13</td>\n",
       "      <td>False</td>\n",
       "    </tr>\n",
       "    <tr>\n",
       "      <th>3</th>\n",
       "      <td>2011-11-27</td>\n",
       "      <td>False</td>\n",
       "    </tr>\n",
       "    <tr>\n",
       "      <th>4</th>\n",
       "      <td>2012-02-18</td>\n",
       "      <td>False</td>\n",
       "    </tr>\n",
       "  </tbody>\n",
       "</table>\n",
       "</div>"
      ],
      "text/plain": [
       "        index      0\n",
       "0  2012-03-31   True\n",
       "1  2011-12-11  False\n",
       "2  2011-08-13  False\n",
       "3  2011-11-27  False\n",
       "4  2012-02-18  False"
      ]
     },
     "execution_count": 12,
     "metadata": {},
     "output_type": "execute_result"
    }
   ],
   "source": [
    "rain_df = pd.DataFrame.from_dict(test_dict, orient = 'index').reset_index()\n",
    "rain_df"
   ]
  },
  {
   "cell_type": "code",
   "execution_count": 42,
   "metadata": {},
   "outputs": [],
   "source": [
    "# rain_wins = pd.merge(left=test_df, right = rain_df, left_on = 0, right_on = 'index')\n",
    "# rain_wins = rain_wins.drop(['key_0', '0_x'], axis = 1)\n",
    "# rain_wins.columns = ['team', 'date', 'rain?']\n",
    "# rain_wins"
   ]
  },
  {
   "cell_type": "code",
   "execution_count": 41,
   "metadata": {
    "scrolled": false
   },
   "outputs": [],
   "source": [
    "# #away team wins\n",
    "# c.execute('''SELECT Date, AwayTeam, Hometeam FROM MATCHES \n",
    "#              WHERE FTR == 'A' \n",
    "#              AND Season == 2011\n",
    "#              ''')\n",
    "# Away_Team_Wins = pd.DataFrame(c.fetchall())\n",
    "# Away_Team_Wins.columns = ['date', 'winning_team(Away)', 'losing_team(Home)']\n",
    "# Away_Team_Wins.head()"
   ]
  },
  {
   "cell_type": "code",
   "execution_count": 39,
   "metadata": {
    "scrolled": true
   },
   "outputs": [],
   "source": [
    "# #home team wins \n",
    "# c.execute('''SELECT Date, HomeTeam, Awayteam FROM MATCHES \n",
    "#              WHERE FTR == 'H' \n",
    "#              AND Season == 2011''')\n",
    "# Home_Team_Wins = pd.DataFrame(c.fetchall())\n",
    "# Home_Team_Wins.columns = ['Date', 'winning_team(Home)', 'losing_team(Away)']\n",
    "# Home_Team_Wins.head()"
   ]
  },
  {
   "cell_type": "code",
   "execution_count": 40,
   "metadata": {},
   "outputs": [],
   "source": [
    "# #combine tables\n",
    "# wins_and_date = Away_Team_Wins.append(Home_Team_Wins)\n",
    "# wins_and_date.head()\n",
    "# wins_and_date['all_wins'] = wins_and_date['winning_team(Away)'] + wins_and_date['winning_team(Home)']\n",
    "# wins_and_date.head()"
   ]
  },
  {
   "cell_type": "code",
   "execution_count": 43,
   "metadata": {},
   "outputs": [],
   "source": [
    "\n",
    "\n",
    "\n",
    "\n",
    "\n",
    "# #dictionary of date and if it rained\n",
    "# test_dict = mf.scrape_dark_sky().get_rain()\n",
    "\n",
    "\n",
    "# #turn it into DF\n",
    "# rain_df = pd.DataFrame.from_dict(test_dict, orient = 'index').reset_index()\n",
    "# #rain_df\n",
    "\n",
    "\n",
    "# #combine total wins and rain table \n",
    "# rain_wins = pd.merge(left=test_df, right = rain_df, left_on = 0, right_on = 'index')\n",
    "# rain_wins = rain_wins.drop(['key_0', '0_x'], axis = 1)\n",
    "# rain_wins.columns = ['team', 'date', 'rain?']\n",
    "# rain_wins\n",
    "\n"
   ]
  },
  {
   "cell_type": "code",
   "execution_count": 44,
   "metadata": {
    "scrolled": true
   },
   "outputs": [
    {
     "data": {
      "text/html": [
       "<div>\n",
       "<style scoped>\n",
       "    .dataframe tbody tr th:only-of-type {\n",
       "        vertical-align: middle;\n",
       "    }\n",
       "\n",
       "    .dataframe tbody tr th {\n",
       "        vertical-align: top;\n",
       "    }\n",
       "\n",
       "    .dataframe thead th {\n",
       "        text-align: right;\n",
       "    }\n",
       "</style>\n",
       "<table border=\"1\" class=\"dataframe\">\n",
       "  <thead>\n",
       "    <tr style=\"text-align: right;\">\n",
       "      <th></th>\n",
       "      <th>Match_ID</th>\n",
       "      <th>Div</th>\n",
       "      <th>Season</th>\n",
       "      <th>Date</th>\n",
       "      <th>HomeTeam</th>\n",
       "      <th>AwayTeam</th>\n",
       "      <th>FTHG</th>\n",
       "      <th>FTAG</th>\n",
       "      <th>FTR</th>\n",
       "    </tr>\n",
       "  </thead>\n",
       "  <tbody>\n",
       "    <tr>\n",
       "      <th>0</th>\n",
       "      <td>1133</td>\n",
       "      <td>D2</td>\n",
       "      <td>2011</td>\n",
       "      <td>2011-07-15</td>\n",
       "      <td>Cottbus</td>\n",
       "      <td>Dresden</td>\n",
       "      <td>2</td>\n",
       "      <td>1</td>\n",
       "      <td>H</td>\n",
       "    </tr>\n",
       "    <tr>\n",
       "      <th>1</th>\n",
       "      <td>1167</td>\n",
       "      <td>D2</td>\n",
       "      <td>2011</td>\n",
       "      <td>2011-07-15</td>\n",
       "      <td>Greuther Furth</td>\n",
       "      <td>Ein Frankfurt</td>\n",
       "      <td>2</td>\n",
       "      <td>3</td>\n",
       "      <td>A</td>\n",
       "    </tr>\n",
       "    <tr>\n",
       "      <th>2</th>\n",
       "      <td>1551</td>\n",
       "      <td>D2</td>\n",
       "      <td>2011</td>\n",
       "      <td>2011-07-15</td>\n",
       "      <td>Frankfurt FSV</td>\n",
       "      <td>Union Berlin</td>\n",
       "      <td>1</td>\n",
       "      <td>1</td>\n",
       "      <td>D</td>\n",
       "    </tr>\n",
       "    <tr>\n",
       "      <th>3</th>\n",
       "      <td>1550</td>\n",
       "      <td>D2</td>\n",
       "      <td>2011</td>\n",
       "      <td>2011-07-16</td>\n",
       "      <td>Erzgebirge Aue</td>\n",
       "      <td>Aachen</td>\n",
       "      <td>1</td>\n",
       "      <td>0</td>\n",
       "      <td>H</td>\n",
       "    </tr>\n",
       "    <tr>\n",
       "      <th>4</th>\n",
       "      <td>1678</td>\n",
       "      <td>D2</td>\n",
       "      <td>2011</td>\n",
       "      <td>2011-07-16</td>\n",
       "      <td>St Pauli</td>\n",
       "      <td>Ingolstadt</td>\n",
       "      <td>2</td>\n",
       "      <td>0</td>\n",
       "      <td>H</td>\n",
       "    </tr>\n",
       "  </tbody>\n",
       "</table>\n",
       "</div>"
      ],
      "text/plain": [
       "   Match_ID Div  Season        Date        HomeTeam       AwayTeam  FTHG  \\\n",
       "0      1133  D2    2011  2011-07-15         Cottbus        Dresden     2   \n",
       "1      1167  D2    2011  2011-07-15  Greuther Furth  Ein Frankfurt     2   \n",
       "2      1551  D2    2011  2011-07-15   Frankfurt FSV   Union Berlin     1   \n",
       "3      1550  D2    2011  2011-07-16  Erzgebirge Aue         Aachen     1   \n",
       "4      1678  D2    2011  2011-07-16        St Pauli     Ingolstadt     2   \n",
       "\n",
       "   FTAG FTR  \n",
       "0     1   H  \n",
       "1     3   A  \n",
       "2     1   D  \n",
       "3     0   H  \n",
       "4     0   H  "
      ]
     },
     "execution_count": 44,
     "metadata": {},
     "output_type": "execute_result"
    }
   ],
   "source": [
    "c.execute('''select * from matches\n",
    "             where Season == 2011\n",
    "             ORDER BY Date\n",
    "            ''')\n",
    "df_matches = pd.DataFrame(c.fetchall())\n",
    "df_matches.columns = ['Match_ID',\n",
    "'Div',\n",
    "'Season',\n",
    "'Date',\n",
    "'HomeTeam',\n",
    "'AwayTeam',\n",
    "'FTHG',\n",
    "'FTAG',\n",
    "'FTR']\n",
    "df_matches.head()"
   ]
  },
  {
   "cell_type": "code",
   "execution_count": 46,
   "metadata": {},
   "outputs": [
    {
     "ename": "KeyError",
     "evalue": "'2011-07-15'",
     "output_type": "error",
     "traceback": [
      "\u001b[0;31m---------------------------------------------------------------------------\u001b[0m",
      "\u001b[0;31mKeyError\u001b[0m                                  Traceback (most recent call last)",
      "\u001b[0;32m<ipython-input-46-7d08d2c39522>\u001b[0m in \u001b[0;36m<module>\u001b[0;34m\u001b[0m\n\u001b[1;32m      1\u001b[0m \u001b[0;31m#Creates New column using dictionary\u001b[0m\u001b[0;34m\u001b[0m\u001b[0;34m\u001b[0m\u001b[0;34m\u001b[0m\u001b[0m\n\u001b[0;32m----> 2\u001b[0;31m \u001b[0mdf_matches\u001b[0m\u001b[0;34m[\u001b[0m\u001b[0;34m'rain'\u001b[0m\u001b[0;34m]\u001b[0m \u001b[0;34m=\u001b[0m \u001b[0mdf_matches\u001b[0m\u001b[0;34m.\u001b[0m\u001b[0mDate\u001b[0m\u001b[0;34m.\u001b[0m\u001b[0mapply\u001b[0m\u001b[0;34m(\u001b[0m\u001b[0;32mlambda\u001b[0m \u001b[0mx\u001b[0m\u001b[0;34m:\u001b[0m \u001b[0mtest_dict\u001b[0m\u001b[0;34m[\u001b[0m\u001b[0mx\u001b[0m\u001b[0;34m]\u001b[0m\u001b[0;34m)\u001b[0m\u001b[0;34m\u001b[0m\u001b[0;34m\u001b[0m\u001b[0m\n\u001b[0m\u001b[1;32m      3\u001b[0m \u001b[0mdf_matches\u001b[0m\u001b[0;34m\u001b[0m\u001b[0;34m\u001b[0m\u001b[0m\n\u001b[1;32m      4\u001b[0m \u001b[0;34m\u001b[0m\u001b[0m\n\u001b[1;32m      5\u001b[0m \u001b[0;31m#filters our false raindays\u001b[0m\u001b[0;34m\u001b[0m\u001b[0;34m\u001b[0m\u001b[0;34m\u001b[0m\u001b[0m\n",
      "\u001b[0;32m~/anaconda3/lib/python3.7/site-packages/pandas/core/series.py\u001b[0m in \u001b[0;36mapply\u001b[0;34m(self, func, convert_dtype, args, **kwds)\u001b[0m\n\u001b[1;32m   3589\u001b[0m             \u001b[0;32melse\u001b[0m\u001b[0;34m:\u001b[0m\u001b[0;34m\u001b[0m\u001b[0;34m\u001b[0m\u001b[0m\n\u001b[1;32m   3590\u001b[0m                 \u001b[0mvalues\u001b[0m \u001b[0;34m=\u001b[0m \u001b[0mself\u001b[0m\u001b[0;34m.\u001b[0m\u001b[0mastype\u001b[0m\u001b[0;34m(\u001b[0m\u001b[0mobject\u001b[0m\u001b[0;34m)\u001b[0m\u001b[0;34m.\u001b[0m\u001b[0mvalues\u001b[0m\u001b[0;34m\u001b[0m\u001b[0;34m\u001b[0m\u001b[0m\n\u001b[0;32m-> 3591\u001b[0;31m                 \u001b[0mmapped\u001b[0m \u001b[0;34m=\u001b[0m \u001b[0mlib\u001b[0m\u001b[0;34m.\u001b[0m\u001b[0mmap_infer\u001b[0m\u001b[0;34m(\u001b[0m\u001b[0mvalues\u001b[0m\u001b[0;34m,\u001b[0m \u001b[0mf\u001b[0m\u001b[0;34m,\u001b[0m \u001b[0mconvert\u001b[0m\u001b[0;34m=\u001b[0m\u001b[0mconvert_dtype\u001b[0m\u001b[0;34m)\u001b[0m\u001b[0;34m\u001b[0m\u001b[0;34m\u001b[0m\u001b[0m\n\u001b[0m\u001b[1;32m   3592\u001b[0m \u001b[0;34m\u001b[0m\u001b[0m\n\u001b[1;32m   3593\u001b[0m         \u001b[0;32mif\u001b[0m \u001b[0mlen\u001b[0m\u001b[0;34m(\u001b[0m\u001b[0mmapped\u001b[0m\u001b[0;34m)\u001b[0m \u001b[0;32mand\u001b[0m \u001b[0misinstance\u001b[0m\u001b[0;34m(\u001b[0m\u001b[0mmapped\u001b[0m\u001b[0;34m[\u001b[0m\u001b[0;36m0\u001b[0m\u001b[0;34m]\u001b[0m\u001b[0;34m,\u001b[0m \u001b[0mSeries\u001b[0m\u001b[0;34m)\u001b[0m\u001b[0;34m:\u001b[0m\u001b[0;34m\u001b[0m\u001b[0;34m\u001b[0m\u001b[0m\n",
      "\u001b[0;32mpandas/_libs/lib.pyx\u001b[0m in \u001b[0;36mpandas._libs.lib.map_infer\u001b[0;34m()\u001b[0m\n",
      "\u001b[0;32m<ipython-input-46-7d08d2c39522>\u001b[0m in \u001b[0;36m<lambda>\u001b[0;34m(x)\u001b[0m\n\u001b[1;32m      1\u001b[0m \u001b[0;31m#Creates New column using dictionary\u001b[0m\u001b[0;34m\u001b[0m\u001b[0;34m\u001b[0m\u001b[0;34m\u001b[0m\u001b[0m\n\u001b[0;32m----> 2\u001b[0;31m \u001b[0mdf_matches\u001b[0m\u001b[0;34m[\u001b[0m\u001b[0;34m'rain'\u001b[0m\u001b[0;34m]\u001b[0m \u001b[0;34m=\u001b[0m \u001b[0mdf_matches\u001b[0m\u001b[0;34m.\u001b[0m\u001b[0mDate\u001b[0m\u001b[0;34m.\u001b[0m\u001b[0mapply\u001b[0m\u001b[0;34m(\u001b[0m\u001b[0;32mlambda\u001b[0m \u001b[0mx\u001b[0m\u001b[0;34m:\u001b[0m \u001b[0mtest_dict\u001b[0m\u001b[0;34m[\u001b[0m\u001b[0mx\u001b[0m\u001b[0;34m]\u001b[0m\u001b[0;34m)\u001b[0m\u001b[0;34m\u001b[0m\u001b[0;34m\u001b[0m\u001b[0m\n\u001b[0m\u001b[1;32m      3\u001b[0m \u001b[0mdf_matches\u001b[0m\u001b[0;34m\u001b[0m\u001b[0;34m\u001b[0m\u001b[0m\n\u001b[1;32m      4\u001b[0m \u001b[0;34m\u001b[0m\u001b[0m\n\u001b[1;32m      5\u001b[0m \u001b[0;31m#filters our false raindays\u001b[0m\u001b[0;34m\u001b[0m\u001b[0;34m\u001b[0m\u001b[0;34m\u001b[0m\u001b[0m\n",
      "\u001b[0;31mKeyError\u001b[0m: '2011-07-15'"
     ]
    }
   ],
   "source": [
    "#Creates New column using dictionary\n",
    "df_matches['rain'] = df_matches.Date.apply(lambda x: test_dict[x])\n",
    "df_matches\n",
    "\n",
    "#filters our false raindays\n",
    "games_in_rain = df_matches[df_matches['rain'] == True]\n",
    "games_in_rain\n"
   ]
  },
  {
   "cell_type": "code",
   "execution_count": 22,
   "metadata": {},
   "outputs": [
    {
     "data": {
      "text/html": [
       "<div>\n",
       "<style scoped>\n",
       "    .dataframe tbody tr th:only-of-type {\n",
       "        vertical-align: middle;\n",
       "    }\n",
       "\n",
       "    .dataframe tbody tr th {\n",
       "        vertical-align: top;\n",
       "    }\n",
       "\n",
       "    .dataframe thead th {\n",
       "        text-align: right;\n",
       "    }\n",
       "</style>\n",
       "<table border=\"1\" class=\"dataframe\">\n",
       "  <thead>\n",
       "    <tr style=\"text-align: right;\">\n",
       "      <th></th>\n",
       "      <th>team</th>\n",
       "      <th>date</th>\n",
       "      <th>rain?</th>\n",
       "    </tr>\n",
       "  </thead>\n",
       "  <tbody>\n",
       "    <tr>\n",
       "      <th>0</th>\n",
       "      <td>Bayern Munich</td>\n",
       "      <td>2012-03-31</td>\n",
       "      <td>True</td>\n",
       "    </tr>\n",
       "    <tr>\n",
       "      <th>1</th>\n",
       "      <td>Bayern Munich</td>\n",
       "      <td>2011-12-11</td>\n",
       "      <td>False</td>\n",
       "    </tr>\n",
       "    <tr>\n",
       "      <th>2</th>\n",
       "      <td>Bayern Munich</td>\n",
       "      <td>2011-08-13</td>\n",
       "      <td>False</td>\n",
       "    </tr>\n",
       "  </tbody>\n",
       "</table>\n",
       "</div>"
      ],
      "text/plain": [
       "            team        date  rain?\n",
       "0  Bayern Munich  2012-03-31   True\n",
       "1  Bayern Munich  2011-12-11  False\n",
       "2  Bayern Munich  2011-08-13  False"
      ]
     },
     "execution_count": 22,
     "metadata": {},
     "output_type": "execute_result"
    }
   ],
   "source": [
    "rain_wins"
   ]
  },
  {
   "cell_type": "code",
   "execution_count": 49,
   "metadata": {},
   "outputs": [
    {
     "data": {
      "text/html": [
       "<div>\n",
       "<style scoped>\n",
       "    .dataframe tbody tr th:only-of-type {\n",
       "        vertical-align: middle;\n",
       "    }\n",
       "\n",
       "    .dataframe tbody tr th {\n",
       "        vertical-align: top;\n",
       "    }\n",
       "\n",
       "    .dataframe thead th {\n",
       "        text-align: right;\n",
       "    }\n",
       "</style>\n",
       "<table border=\"1\" class=\"dataframe\">\n",
       "  <thead>\n",
       "    <tr style=\"text-align: right;\">\n",
       "      <th></th>\n",
       "      <th>team</th>\n",
       "      <th>Date</th>\n",
       "      <th>rain?</th>\n",
       "    </tr>\n",
       "  </thead>\n",
       "  <tbody>\n",
       "    <tr>\n",
       "      <th>0</th>\n",
       "      <td>Bayern Munich</td>\n",
       "      <td>2012-03-31</td>\n",
       "      <td>True</td>\n",
       "    </tr>\n",
       "    <tr>\n",
       "      <th>1</th>\n",
       "      <td>Freiburg</td>\n",
       "      <td>2012-03-31</td>\n",
       "      <td>True</td>\n",
       "    </tr>\n",
       "    <tr>\n",
       "      <th>2</th>\n",
       "      <td>Hamburg</td>\n",
       "      <td>2012-03-31</td>\n",
       "      <td>True</td>\n",
       "    </tr>\n",
       "    <tr>\n",
       "      <th>3</th>\n",
       "      <td>Hansa Rostock</td>\n",
       "      <td>2012-03-31</td>\n",
       "      <td>True</td>\n",
       "    </tr>\n",
       "    <tr>\n",
       "      <th>4</th>\n",
       "      <td>Mainz</td>\n",
       "      <td>2012-03-31</td>\n",
       "      <td>True</td>\n",
       "    </tr>\n",
       "    <tr>\n",
       "      <th>5</th>\n",
       "      <td>Wolfsburg</td>\n",
       "      <td>2012-03-31</td>\n",
       "      <td>True</td>\n",
       "    </tr>\n",
       "    <tr>\n",
       "      <th>6</th>\n",
       "      <td>Chelsea</td>\n",
       "      <td>2012-03-31</td>\n",
       "      <td>True</td>\n",
       "    </tr>\n",
       "    <tr>\n",
       "      <th>7</th>\n",
       "      <td>Bolton</td>\n",
       "      <td>2012-03-31</td>\n",
       "      <td>True</td>\n",
       "    </tr>\n",
       "    <tr>\n",
       "      <th>8</th>\n",
       "      <td>Augsburg</td>\n",
       "      <td>2012-03-31</td>\n",
       "      <td>True</td>\n",
       "    </tr>\n",
       "    <tr>\n",
       "      <th>9</th>\n",
       "      <td>Everton</td>\n",
       "      <td>2012-03-31</td>\n",
       "      <td>True</td>\n",
       "    </tr>\n",
       "    <tr>\n",
       "      <th>10</th>\n",
       "      <td>Fulham</td>\n",
       "      <td>2012-03-31</td>\n",
       "      <td>True</td>\n",
       "    </tr>\n",
       "    <tr>\n",
       "      <th>11</th>\n",
       "      <td>QPR</td>\n",
       "      <td>2012-03-31</td>\n",
       "      <td>True</td>\n",
       "    </tr>\n",
       "    <tr>\n",
       "      <th>12</th>\n",
       "      <td>Wigan</td>\n",
       "      <td>2012-03-31</td>\n",
       "      <td>True</td>\n",
       "    </tr>\n",
       "  </tbody>\n",
       "</table>\n",
       "</div>"
      ],
      "text/plain": [
       "             team        Date  rain?\n",
       "0   Bayern Munich  2012-03-31   True\n",
       "1        Freiburg  2012-03-31   True\n",
       "2         Hamburg  2012-03-31   True\n",
       "3   Hansa Rostock  2012-03-31   True\n",
       "4           Mainz  2012-03-31   True\n",
       "5       Wolfsburg  2012-03-31   True\n",
       "6         Chelsea  2012-03-31   True\n",
       "7          Bolton  2012-03-31   True\n",
       "8        Augsburg  2012-03-31   True\n",
       "9         Everton  2012-03-31   True\n",
       "10         Fulham  2012-03-31   True\n",
       "11            QPR  2012-03-31   True\n",
       "12          Wigan  2012-03-31   True"
      ]
     },
     "execution_count": 49,
     "metadata": {},
     "output_type": "execute_result"
    }
   ],
   "source": [
    "#away team wins\n",
    "c.execute('''SELECT Date, AwayTeam FROM MATCHES \n",
    "                     WHERE FTR == 'A' \n",
    "                     AND Season == 2011\n",
    "                     ''')\n",
    "Away_Team_Wins = pd.DataFrame(c.fetchall())\n",
    "\n",
    "\n",
    "#home team wins \n",
    "c.execute('''SELECT Date, HomeTeam FROM MATCHES \n",
    "                     WHERE FTR == 'H' \n",
    "                     AND Season == 2011''')\n",
    "Home_Team_Wins = pd.DataFrame(c.fetchall())\n",
    "\n",
    "#combine tables\n",
    "wins_and_date = Away_Team_Wins.append(Home_Team_Wins)\n",
    "wins_and_date\n",
    "\n",
    "#dictionary of date and if it rained\n",
    "date_dict = mf.scrape_dark_sky().get_rain()\n",
    "\n",
    "#turn it into DF\n",
    "rain_df = pd.DataFrame.from_dict(date_dict, orient = 'index').reset_index()\n",
    "#rain_df\n",
    "\n",
    "#combine total wins and rain table \n",
    "rain_wins = pd.merge(left=wins_and_date, right = rain_df, left_on = 0, right_on = 'index')\n",
    "rain_wins = rain_wins.drop(['key_0', '0_x'], axis = 1)\n",
    "rain_wins.columns = ['team', 'Date', 'rain?']\n",
    "rain_wins = rain_wins[rain_wins['rain?'] == True]\n",
    "rain_wins"
   ]
  },
  {
   "cell_type": "code",
   "execution_count": 1,
   "metadata": {},
   "outputs": [],
   "source": [
    "import minna_functions as mf"
   ]
  },
  {
   "cell_type": "code",
   "execution_count": 2,
   "metadata": {},
   "outputs": [],
   "source": [
    "scrape = mf.scrape_dark_sky()"
   ]
  },
  {
   "cell_type": "code",
   "execution_count": 4,
   "metadata": {},
   "outputs": [
    {
     "data": {
      "text/plain": [
       "0"
      ]
     },
     "execution_count": 4,
     "metadata": {},
     "output_type": "execute_result"
    }
   ],
   "source": [
    "len(scrape.temp)"
   ]
  },
  {
   "cell_type": "code",
   "execution_count": 2,
   "metadata": {
    "scrolled": true
   },
   "outputs": [],
   "source": [
    "soccer = mf.soccer_weather()"
   ]
  },
  {
   "cell_type": "code",
   "execution_count": 3,
   "metadata": {
    "scrolled": true
   },
   "outputs": [
    {
     "data": {
      "text/plain": [
       "0.0"
      ]
     },
     "execution_count": 3,
     "metadata": {},
     "output_type": "execute_result"
    }
   ],
   "source": [
    "soccer.total_wins_in_rain(\"Klaiserslautern\")"
   ]
  },
  {
   "cell_type": "code",
   "execution_count": 5,
   "metadata": {},
   "outputs": [
    {
     "data": {
      "text/plain": [
       "8"
      ]
     },
     "execution_count": 5,
     "metadata": {},
     "output_type": "execute_result"
    }
   ],
   "source": [
    "soccer.total_wins_in_rain('Chelsea')"
   ]
  },
  {
   "cell_type": "code",
   "execution_count": 6,
   "metadata": {},
   "outputs": [
    {
     "data": {
      "text/plain": [
       "numpy.int64"
      ]
     },
     "execution_count": 6,
     "metadata": {},
     "output_type": "execute_result"
    }
   ],
   "source": [
    "type(soccer.total_games_in_rain('Tottenham'))"
   ]
  },
  {
   "cell_type": "code",
   "execution_count": 7,
   "metadata": {},
   "outputs": [
    {
     "data": {
      "text/plain": [
       "57.14"
      ]
     },
     "execution_count": 7,
     "metadata": {},
     "output_type": "execute_result"
    }
   ],
   "source": [
    "round(soccer.rain_win_percentage('Chelsea'), 2)"
   ]
  },
  {
   "cell_type": "code",
   "execution_count": 3,
   "metadata": {},
   "outputs": [
    {
     "data": {
      "image/png": "[encoded data removed]",
      "text/plain": [
       "<Figure size 432x288 with 1 Axes>"
      ]
     },
     "metadata": {
      "needs_background": "light"
     },
     "output_type": "display_data"
    }
   ],
   "source": [
    "mf.histogram('Tottenham')"
   ]
  },
  {
   "cell_type": "code",
   "execution_count": null,
   "metadata": {},
   "outputs": [],
   "source": []
  },
  {
   "cell_type": "code",
   "execution_count": null,
   "metadata": {},
   "outputs": [],
   "source": []
  },
  {
   "cell_type": "code",
   "execution_count": null,
   "metadata": {},
   "outputs": [],
   "source": []
  },
  {
   "cell_type": "code",
   "execution_count": 7,
   "metadata": {},
   "outputs": [
    {
     "name": "stdout",
     "output_type": "stream",
     "text": [
      "Requirement already satisfied: pymongo in /Users/minnafingerhood/anaconda3/lib/python3.7/site-packages (3.8.0)\r\n"
     ]
    }
   ],
   "source": [
    "!pip install pymongo"
   ]
  },
  {
   "cell_type": "code",
   "execution_count": 14,
   "metadata": {},
   "outputs": [],
   "source": [
    "import pymongo\n",
    "import numpy as np"
   ]
  },
  {
   "cell_type": "code",
   "execution_count": 7,
   "metadata": {},
   "outputs": [],
   "source": [
    "myclient = pymongo.MongoClient(\"mongodb://127.0.0.1:27017\")\n",
    "mydb = myclient['database']"
   ]
  },
  {
   "cell_type": "code",
   "execution_count": 8,
   "metadata": {},
   "outputs": [
    {
     "name": "stdout",
     "output_type": "stream",
     "text": [
      "['admin', 'config', 'example_data', 'local', 'test']\n"
     ]
    }
   ],
   "source": [
    "print(myclient.list_database_names())"
   ]
  },
  {
   "cell_type": "code",
   "execution_count": 9,
   "metadata": {},
   "outputs": [],
   "source": [
    "mycollection = mydb['team_info']"
   ]
  },
  {
   "cell_type": "code",
   "execution_count": 19,
   "metadata": {},
   "outputs": [],
   "source": [
    "soccer = mf.soccer_weather()\n",
    "\n",
    "list_of_dicts = []\n",
    "for team in mf.total_teams():\n",
    "    team_dict = {}\n",
    "    team_dict['name'] = team\n",
    "    team_dict['total_goals_2011'] = str(mf.total_goals(team))\n",
    "    team_dict['total_wins_2011'] = str(mf.total_wins(team))\n",
    "    team_dict['total_rain_wins'] = str(soccer.rain_win_percentage(team))\n",
    "    list_of_dicts.append(team_dict)\n",
    "\n"
   ]
  },
  {
   "cell_type": "code",
   "execution_count": 21,
   "metadata": {},
   "outputs": [],
   "source": [
    "results_2 = mycollection.insert_many(list_of_dicts)"
   ]
  },
  {
   "cell_type": "code",
   "execution_count": 24,
   "metadata": {},
   "outputs": [
    {
     "data": {
      "text/plain": [
       "[ObjectId('5d1a493371c701a4c1c5c62e'),\n",
       " ObjectId('5d1a493371c701a4c1c5c62f'),\n",
       " ObjectId('5d1a493371c701a4c1c5c630'),\n",
       " ObjectId('5d1a493371c701a4c1c5c631'),\n",
       " ObjectId('5d1a493371c701a4c1c5c632'),\n",
       " ObjectId('5d1a493371c701a4c1c5c633'),\n",
       " ObjectId('5d1a493371c701a4c1c5c634'),\n",
       " ObjectId('5d1a493371c701a4c1c5c635'),\n",
       " ObjectId('5d1a493371c701a4c1c5c636'),\n",
       " ObjectId('5d1a493371c701a4c1c5c637'),\n",
       " ObjectId('5d1a493371c701a4c1c5c638'),\n",
       " ObjectId('5d1a493371c701a4c1c5c639'),\n",
       " ObjectId('5d1a493371c701a4c1c5c63a'),\n",
       " ObjectId('5d1a493371c701a4c1c5c63b'),\n",
       " ObjectId('5d1a493371c701a4c1c5c63c'),\n",
       " ObjectId('5d1a493371c701a4c1c5c63d'),\n",
       " ObjectId('5d1a493371c701a4c1c5c63e'),\n",
       " ObjectId('5d1a493371c701a4c1c5c63f'),\n",
       " ObjectId('5d1a493371c701a4c1c5c640'),\n",
       " ObjectId('5d1a493371c701a4c1c5c641'),\n",
       " ObjectId('5d1a493371c701a4c1c5c642'),\n",
       " ObjectId('5d1a493371c701a4c1c5c643'),\n",
       " ObjectId('5d1a493371c701a4c1c5c644'),\n",
       " ObjectId('5d1a493371c701a4c1c5c645'),\n",
       " ObjectId('5d1a493371c701a4c1c5c646'),\n",
       " ObjectId('5d1a493371c701a4c1c5c647'),\n",
       " ObjectId('5d1a493371c701a4c1c5c648'),\n",
       " ObjectId('5d1a493371c701a4c1c5c649'),\n",
       " ObjectId('5d1a493371c701a4c1c5c64a'),\n",
       " ObjectId('5d1a493371c701a4c1c5c64b'),\n",
       " ObjectId('5d1a493371c701a4c1c5c64c'),\n",
       " ObjectId('5d1a493371c701a4c1c5c64d'),\n",
       " ObjectId('5d1a493371c701a4c1c5c64e'),\n",
       " ObjectId('5d1a493371c701a4c1c5c64f'),\n",
       " ObjectId('5d1a493371c701a4c1c5c650'),\n",
       " ObjectId('5d1a493371c701a4c1c5c651'),\n",
       " ObjectId('5d1a493371c701a4c1c5c652'),\n",
       " ObjectId('5d1a493371c701a4c1c5c653'),\n",
       " ObjectId('5d1a493371c701a4c1c5c654'),\n",
       " ObjectId('5d1a493371c701a4c1c5c655'),\n",
       " ObjectId('5d1a493371c701a4c1c5c656'),\n",
       " ObjectId('5d1a493371c701a4c1c5c657'),\n",
       " ObjectId('5d1a493371c701a4c1c5c658'),\n",
       " ObjectId('5d1a493371c701a4c1c5c659'),\n",
       " ObjectId('5d1a493371c701a4c1c5c65a'),\n",
       " ObjectId('5d1a493371c701a4c1c5c65b'),\n",
       " ObjectId('5d1a493371c701a4c1c5c65c'),\n",
       " ObjectId('5d1a493371c701a4c1c5c65d'),\n",
       " ObjectId('5d1a493371c701a4c1c5c65e'),\n",
       " ObjectId('5d1a493371c701a4c1c5c65f'),\n",
       " ObjectId('5d1a493371c701a4c1c5c660'),\n",
       " ObjectId('5d1a493371c701a4c1c5c661'),\n",
       " ObjectId('5d1a493371c701a4c1c5c662'),\n",
       " ObjectId('5d1a493371c701a4c1c5c663'),\n",
       " ObjectId('5d1a493371c701a4c1c5c664'),\n",
       " ObjectId('5d1a493371c701a4c1c5c665')]"
      ]
     },
     "execution_count": 24,
     "metadata": {},
     "output_type": "execute_result"
    }
   ],
   "source": [
    "results_2.inserted_ids"
   ]
  },
  {
   "cell_type": "code",
   "execution_count": 1,
   "metadata": {},
   "outputs": [],
   "source": [
    "import minna_functions as mf\n",
    "import pandas as pd"
   ]
  },
  {
   "cell_type": "code",
   "execution_count": 2,
   "metadata": {},
   "outputs": [
    {
     "data": {
      "image/png": "[encoded data removed]",
      "text/plain": [
       "<Figure size 432x288 with 1 Axes>"
      ]
     },
     "metadata": {
      "needs_background": "light"
     },
     "output_type": "display_data"
    }
   ],
   "source": []
  },
  {
   "cell_type": "code",
   "execution_count": 1,
   "metadata": {},
   "outputs": [],
   "source": [
    "import minna_functions as mf"
   ]
  },
  {
   "cell_type": "code",
   "execution_count": 2,
   "metadata": {},
   "outputs": [],
   "source": [
    "import pymongo"
   ]
  },
  {
   "cell_type": "code",
   "execution_count": 2,
   "metadata": {
    "scrolled": true
   },
   "outputs": [],
   "source": [
    "mongo_handler = mf.mongo_handler()"
   ]
  },
  {
   "cell_type": "code",
   "execution_count": 3,
   "metadata": {},
   "outputs": [
    {
     "data": {
      "text/plain": [
       "[{'name': 'Aachen',\n",
       "  'total_goals_2011': '30',\n",
       "  'total_wins_2011': '6',\n",
       "  'total_rain_wins': '23.08'},\n",
       " {'name': 'Arsenal',\n",
       "  'total_goals_2011': '74',\n",
       "  'total_wins_2011': '21',\n",
       "  'total_rain_wins': '57.14'},\n",
       " {'name': 'Aston Villa',\n",
       "  'total_goals_2011': '37',\n",
       "  'total_wins_2011': '7',\n",
       "  'total_rain_wins': '16.67'},\n",
       " {'name': 'Augsburg',\n",
       "  'total_goals_2011': '36',\n",
       "  'total_wins_2011': '8',\n",
       "  'total_rain_wins': '36.36'},\n",
       " {'name': 'Bayern Munich',\n",
       "  'total_goals_2011': '77',\n",
       "  'total_wins_2011': '23',\n",
       "  'total_rain_wins': '72.73'},\n",
       " {'name': 'Blackburn',\n",
       "  'total_goals_2011': '48',\n",
       "  'total_wins_2011': '8',\n",
       "  'total_rain_wins': '10.0'},\n",
       " {'name': 'Bochum',\n",
       "  'total_goals_2011': '41',\n",
       "  'total_wins_2011': '10',\n",
       "  'total_rain_wins': '27.27'},\n",
       " {'name': 'Bolton',\n",
       "  'total_goals_2011': '46',\n",
       "  'total_wins_2011': '10',\n",
       "  'total_rain_wins': '33.33'},\n",
       " {'name': 'Braunschweig',\n",
       "  'total_goals_2011': '37',\n",
       "  'total_wins_2011': '10',\n",
       "  'total_rain_wins': '44.44'},\n",
       " {'name': 'Chelsea',\n",
       "  'total_goals_2011': '65',\n",
       "  'total_wins_2011': '18',\n",
       "  'total_rain_wins': '57.14'},\n",
       " {'name': 'Cottbus',\n",
       "  'total_goals_2011': '30',\n",
       "  'total_wins_2011': '8',\n",
       "  'total_rain_wins': '30.0'},\n",
       " {'name': 'Dortmund',\n",
       "  'total_goals_2011': '80',\n",
       "  'total_wins_2011': '25',\n",
       "  'total_rain_wins': '60.0'},\n",
       " {'name': 'Dresden',\n",
       "  'total_goals_2011': '50',\n",
       "  'total_wins_2011': '12',\n",
       "  'total_rain_wins': '33.33'},\n",
       " {'name': 'Duisburg',\n",
       "  'total_goals_2011': '42',\n",
       "  'total_wins_2011': '10',\n",
       "  'total_rain_wins': '25.0'},\n",
       " {'name': 'Ein Frankfurt',\n",
       "  'total_goals_2011': '76',\n",
       "  'total_wins_2011': '20',\n",
       "  'total_rain_wins': '33.33'},\n",
       " {'name': 'Erzgebirge Aue',\n",
       "  'total_goals_2011': '31',\n",
       "  'total_wins_2011': '8',\n",
       "  'total_rain_wins': '9.09'},\n",
       " {'name': 'Everton',\n",
       "  'total_goals_2011': '50',\n",
       "  'total_wins_2011': '15',\n",
       "  'total_rain_wins': '46.15'},\n",
       " {'name': 'FC Koln',\n",
       "  'total_goals_2011': '39',\n",
       "  'total_wins_2011': '8',\n",
       "  'total_rain_wins': '30.77'},\n",
       " {'name': 'Fortuna Dusseldorf',\n",
       "  'total_goals_2011': '64',\n",
       "  'total_wins_2011': '16',\n",
       "  'total_rain_wins': '38.46'},\n",
       " {'name': 'Frankfurt FSV',\n",
       "  'total_goals_2011': '43',\n",
       "  'total_wins_2011': '7',\n",
       "  'total_rain_wins': '7.14'},\n",
       " {'name': 'Freiburg',\n",
       "  'total_goals_2011': '45',\n",
       "  'total_wins_2011': '10',\n",
       "  'total_rain_wins': '27.27'},\n",
       " {'name': 'Fulham',\n",
       "  'total_goals_2011': '48',\n",
       "  'total_wins_2011': '14',\n",
       "  'total_rain_wins': '33.33'},\n",
       " {'name': 'Greuther Furth',\n",
       "  'total_goals_2011': '73',\n",
       "  'total_wins_2011': '20',\n",
       "  'total_rain_wins': '57.14'},\n",
       " {'name': 'Hamburg',\n",
       "  'total_goals_2011': '35',\n",
       "  'total_wins_2011': '8',\n",
       "  'total_rain_wins': '15.38'},\n",
       " {'name': 'Hannover',\n",
       "  'total_goals_2011': '41',\n",
       "  'total_wins_2011': '12',\n",
       "  'total_rain_wins': '41.67'},\n",
       " {'name': 'Hansa Rostock',\n",
       "  'total_goals_2011': '34',\n",
       "  'total_wins_2011': '5',\n",
       "  'total_rain_wins': '6.67'},\n",
       " {'name': 'Hertha',\n",
       "  'total_goals_2011': '38',\n",
       "  'total_wins_2011': '7',\n",
       "  'total_rain_wins': '30.0'},\n",
       " {'name': 'Hoffenheim',\n",
       "  'total_goals_2011': '41',\n",
       "  'total_wins_2011': '10',\n",
       "  'total_rain_wins': '20.0'},\n",
       " {'name': 'Ingolstadt',\n",
       "  'total_goals_2011': '43',\n",
       "  'total_wins_2011': '8',\n",
       "  'total_rain_wins': '14.29'},\n",
       " {'name': 'Kaiserslautern',\n",
       "  'total_goals_2011': '24',\n",
       "  'total_wins_2011': '4',\n",
       "  'total_rain_wins': '0.0'},\n",
       " {'name': 'Karlsruhe',\n",
       "  'total_goals_2011': '34',\n",
       "  'total_wins_2011': '9',\n",
       "  'total_rain_wins': '26.67'},\n",
       " {'name': 'Leverkusen',\n",
       "  'total_goals_2011': '52',\n",
       "  'total_wins_2011': '15',\n",
       "  'total_rain_wins': '42.86'},\n",
       " {'name': 'Liverpool',\n",
       "  'total_goals_2011': '47',\n",
       "  'total_wins_2011': '14',\n",
       "  'total_rain_wins': '40.0'},\n",
       " {'name': \"M'gladbach\",\n",
       "  'total_goals_2011': '49',\n",
       "  'total_wins_2011': '17',\n",
       "  'total_rain_wins': '72.73'},\n",
       " {'name': 'Mainz',\n",
       "  'total_goals_2011': '47',\n",
       "  'total_wins_2011': '9',\n",
       "  'total_rain_wins': '20.0'},\n",
       " {'name': 'Man City',\n",
       "  'total_goals_2011': '93',\n",
       "  'total_wins_2011': '28',\n",
       "  'total_rain_wins': '68.75'},\n",
       " {'name': 'Man United',\n",
       "  'total_goals_2011': '89',\n",
       "  'total_wins_2011': '28',\n",
       "  'total_rain_wins': '80.0'},\n",
       " {'name': 'Munich 1860',\n",
       "  'total_goals_2011': '62',\n",
       "  'total_wins_2011': '17',\n",
       "  'total_rain_wins': '64.71'},\n",
       " {'name': 'Newcastle',\n",
       "  'total_goals_2011': '56',\n",
       "  'total_wins_2011': '19',\n",
       "  'total_rain_wins': '23.08'},\n",
       " {'name': 'Norwich',\n",
       "  'total_goals_2011': '52',\n",
       "  'total_wins_2011': '12',\n",
       "  'total_rain_wins': '30.0'},\n",
       " {'name': 'Nurnberg',\n",
       "  'total_goals_2011': '38',\n",
       "  'total_wins_2011': '12',\n",
       "  'total_rain_wins': '55.56'},\n",
       " {'name': 'Paderborn',\n",
       "  'total_goals_2011': '51',\n",
       "  'total_wins_2011': '17',\n",
       "  'total_rain_wins': '50.0'},\n",
       " {'name': 'QPR',\n",
       "  'total_goals_2011': '43',\n",
       "  'total_wins_2011': '10',\n",
       "  'total_rain_wins': '23.08'},\n",
       " {'name': 'Schalke 04',\n",
       "  'total_goals_2011': '74',\n",
       "  'total_wins_2011': '20',\n",
       "  'total_rain_wins': '50.0'},\n",
       " {'name': 'St Pauli',\n",
       "  'total_goals_2011': '59',\n",
       "  'total_wins_2011': '18',\n",
       "  'total_rain_wins': '72.73'},\n",
       " {'name': 'Stoke',\n",
       "  'total_goals_2011': '36',\n",
       "  'total_wins_2011': '11',\n",
       "  'total_rain_wins': '33.33'},\n",
       " {'name': 'Stuttgart',\n",
       "  'total_goals_2011': '63',\n",
       "  'total_wins_2011': '15',\n",
       "  'total_rain_wins': '42.86'},\n",
       " {'name': 'Sunderland',\n",
       "  'total_goals_2011': '45',\n",
       "  'total_wins_2011': '11',\n",
       "  'total_rain_wins': '30.77'},\n",
       " {'name': 'Swansea',\n",
       "  'total_goals_2011': '44',\n",
       "  'total_wins_2011': '12',\n",
       "  'total_rain_wins': '20.0'},\n",
       " {'name': 'Tottenham',\n",
       "  'total_goals_2011': '66',\n",
       "  'total_wins_2011': '20',\n",
       "  'total_rain_wins': '69.23'},\n",
       " {'name': 'Union Berlin',\n",
       "  'total_goals_2011': '55',\n",
       "  'total_wins_2011': '14',\n",
       "  'total_rain_wins': '45.45'},\n",
       " {'name': 'Werder Bremen',\n",
       "  'total_goals_2011': '49',\n",
       "  'total_wins_2011': '11',\n",
       "  'total_rain_wins': '50.0'},\n",
       " {'name': 'West Brom',\n",
       "  'total_goals_2011': '45',\n",
       "  'total_wins_2011': '13',\n",
       "  'total_rain_wins': '28.57'},\n",
       " {'name': 'Wigan',\n",
       "  'total_goals_2011': '42',\n",
       "  'total_wins_2011': '11',\n",
       "  'total_rain_wins': '33.33'},\n",
       " {'name': 'Wolfsburg',\n",
       "  'total_goals_2011': '47',\n",
       "  'total_wins_2011': '13',\n",
       "  'total_rain_wins': '33.33'},\n",
       " {'name': 'Wolves',\n",
       "  'total_goals_2011': '40',\n",
       "  'total_wins_2011': '5',\n",
       "  'total_rain_wins': '10.0'}]"
      ]
     },
     "execution_count": 3,
     "metadata": {},
     "output_type": "execute_result"
    }
   ],
   "source": [
    "mongo_handler.info_to_dict()"
   ]
  },
  {
   "cell_type": "code",
   "execution_count": null,
   "metadata": {},
   "outputs": [],
   "source": []
  }
 ],
 "metadata": {
  "kernelspec": {
   "display_name": "Python 3",
   "language": "python",
   "name": "python3"
  },
  "language_info": {
   "codemirror_mode": {
    "name": "ipython",
    "version": 3
   },
   "file_extension": ".py",
   "mimetype": "text/x-python",
   "name": "python",
   "nbconvert_exporter": "python",
   "pygments_lexer": "ipython3",
   "version": "3.7.3"
  }
 },
 "nbformat": 4,
 "nbformat_minor": 2
}
